{
  "cells": [
    {
      "cell_type": "markdown",
      "metadata": {
        "id": "B-1efHo_RfmF"
      },
      "source": [
        "# 911 Calls Capstone Project"
      ]
    },
    {
      "cell_type": "markdown",
      "metadata": {
        "id": "vfGNDh-HRfmI"
      },
      "source": [
        "For this capstone project we will be analyzing some 911 call data from [Kaggle](https://www.kaggle.com/mchirico/montcoalert). The data contains the following fields:\n",
        "\n",
        "* lat : String variable, Latitude\n",
        "* lng: String variable, Longitude\n",
        "* desc: String variable, Description of the Emergency Call\n",
        "* zip: String variable, Zipcode\n",
        "* title: String variable, Title\n",
        "* timeStamp: String variable, YYYY-MM-DD HH:MM:SS\n",
        "* twp: String variable, Township\n",
        "* addr: String variable, Address\n",
        "* e: String variable, Dummy variable (always 1)\n",
        "\n",
        "Just go along with this notebook and try to complete the instructions or answer the questions in bold using your Python and Data Science skills!"
      ]
    },
    {
      "cell_type": "markdown",
      "metadata": {
        "id": "rdztvmRSRfmI"
      },
      "source": [
        "## Data and Setup"
      ]
    },
    {
      "cell_type": "markdown",
      "metadata": {
        "id": "_esMkrv8RfmI"
      },
      "source": [
        "____\n",
        "** Import numpy and pandas **"
      ]
    },
    {
      "cell_type": "code",
      "execution_count": null,
      "metadata": {
        "collapsed": true,
        "id": "7BjA5lmMRfmJ"
      },
      "outputs": [],
      "source": [
        "import numpy as np\n",
        "import pandas as pd\n",
        "import matplotlib.pyplot as plt\n",
        "import seaborn as sns\n",
        "%matplotlib inline"
      ]
    },
    {
      "cell_type": "code",
      "execution_count": null,
      "metadata": {
        "collapsed": true,
        "id": "WgnvJujlRfmK",
        "colab": {
          "base_uri": "https://localhost:8080/",
          "height": 315
        },
        "outputId": "5742ed2b-2a3b-43e4-8474-cb4ad1f4b4c4"
      },
      "outputs": [
        {
          "output_type": "error",
          "ename": "FileNotFoundError",
          "evalue": "[Errno 2] No such file or directory: '911.csv'",
          "traceback": [
            "\u001b[0;31m---------------------------------------------------------------------------\u001b[0m",
            "\u001b[0;31mFileNotFoundError\u001b[0m                         Traceback (most recent call last)",
            "\u001b[0;32m/tmp/ipython-input-1333830029.py\u001b[0m in \u001b[0;36m<cell line: 0>\u001b[0;34m()\u001b[0m\n\u001b[0;32m----> 1\u001b[0;31m \u001b[0mdf\u001b[0m \u001b[0;34m=\u001b[0m \u001b[0mpd\u001b[0m\u001b[0;34m.\u001b[0m\u001b[0mread_csv\u001b[0m\u001b[0;34m(\u001b[0m\u001b[0;34m'911.csv'\u001b[0m\u001b[0;34m)\u001b[0m\u001b[0;34m\u001b[0m\u001b[0;34m\u001b[0m\u001b[0m\n\u001b[0m",
            "\u001b[0;32m/usr/local/lib/python3.12/dist-packages/pandas/io/parsers/readers.py\u001b[0m in \u001b[0;36mread_csv\u001b[0;34m(filepath_or_buffer, sep, delimiter, header, names, index_col, usecols, dtype, engine, converters, true_values, false_values, skipinitialspace, skiprows, skipfooter, nrows, na_values, keep_default_na, na_filter, verbose, skip_blank_lines, parse_dates, infer_datetime_format, keep_date_col, date_parser, date_format, dayfirst, cache_dates, iterator, chunksize, compression, thousands, decimal, lineterminator, quotechar, quoting, doublequote, escapechar, comment, encoding, encoding_errors, dialect, on_bad_lines, delim_whitespace, low_memory, memory_map, float_precision, storage_options, dtype_backend)\u001b[0m\n\u001b[1;32m   1024\u001b[0m     \u001b[0mkwds\u001b[0m\u001b[0;34m.\u001b[0m\u001b[0mupdate\u001b[0m\u001b[0;34m(\u001b[0m\u001b[0mkwds_defaults\u001b[0m\u001b[0;34m)\u001b[0m\u001b[0;34m\u001b[0m\u001b[0;34m\u001b[0m\u001b[0m\n\u001b[1;32m   1025\u001b[0m \u001b[0;34m\u001b[0m\u001b[0m\n\u001b[0;32m-> 1026\u001b[0;31m     \u001b[0;32mreturn\u001b[0m \u001b[0m_read\u001b[0m\u001b[0;34m(\u001b[0m\u001b[0mfilepath_or_buffer\u001b[0m\u001b[0;34m,\u001b[0m \u001b[0mkwds\u001b[0m\u001b[0;34m)\u001b[0m\u001b[0;34m\u001b[0m\u001b[0;34m\u001b[0m\u001b[0m\n\u001b[0m\u001b[1;32m   1027\u001b[0m \u001b[0;34m\u001b[0m\u001b[0m\n\u001b[1;32m   1028\u001b[0m \u001b[0;34m\u001b[0m\u001b[0m\n",
            "\u001b[0;32m/usr/local/lib/python3.12/dist-packages/pandas/io/parsers/readers.py\u001b[0m in \u001b[0;36m_read\u001b[0;34m(filepath_or_buffer, kwds)\u001b[0m\n\u001b[1;32m    618\u001b[0m \u001b[0;34m\u001b[0m\u001b[0m\n\u001b[1;32m    619\u001b[0m     \u001b[0;31m# Create the parser.\u001b[0m\u001b[0;34m\u001b[0m\u001b[0;34m\u001b[0m\u001b[0m\n\u001b[0;32m--> 620\u001b[0;31m     \u001b[0mparser\u001b[0m \u001b[0;34m=\u001b[0m \u001b[0mTextFileReader\u001b[0m\u001b[0;34m(\u001b[0m\u001b[0mfilepath_or_buffer\u001b[0m\u001b[0;34m,\u001b[0m \u001b[0;34m**\u001b[0m\u001b[0mkwds\u001b[0m\u001b[0;34m)\u001b[0m\u001b[0;34m\u001b[0m\u001b[0;34m\u001b[0m\u001b[0m\n\u001b[0m\u001b[1;32m    621\u001b[0m \u001b[0;34m\u001b[0m\u001b[0m\n\u001b[1;32m    622\u001b[0m     \u001b[0;32mif\u001b[0m \u001b[0mchunksize\u001b[0m \u001b[0;32mor\u001b[0m \u001b[0miterator\u001b[0m\u001b[0;34m:\u001b[0m\u001b[0;34m\u001b[0m\u001b[0;34m\u001b[0m\u001b[0m\n",
            "\u001b[0;32m/usr/local/lib/python3.12/dist-packages/pandas/io/parsers/readers.py\u001b[0m in \u001b[0;36m__init__\u001b[0;34m(self, f, engine, **kwds)\u001b[0m\n\u001b[1;32m   1618\u001b[0m \u001b[0;34m\u001b[0m\u001b[0m\n\u001b[1;32m   1619\u001b[0m         \u001b[0mself\u001b[0m\u001b[0;34m.\u001b[0m\u001b[0mhandles\u001b[0m\u001b[0;34m:\u001b[0m \u001b[0mIOHandles\u001b[0m \u001b[0;34m|\u001b[0m \u001b[0;32mNone\u001b[0m \u001b[0;34m=\u001b[0m \u001b[0;32mNone\u001b[0m\u001b[0;34m\u001b[0m\u001b[0;34m\u001b[0m\u001b[0m\n\u001b[0;32m-> 1620\u001b[0;31m         \u001b[0mself\u001b[0m\u001b[0;34m.\u001b[0m\u001b[0m_engine\u001b[0m \u001b[0;34m=\u001b[0m \u001b[0mself\u001b[0m\u001b[0;34m.\u001b[0m\u001b[0m_make_engine\u001b[0m\u001b[0;34m(\u001b[0m\u001b[0mf\u001b[0m\u001b[0;34m,\u001b[0m \u001b[0mself\u001b[0m\u001b[0;34m.\u001b[0m\u001b[0mengine\u001b[0m\u001b[0;34m)\u001b[0m\u001b[0;34m\u001b[0m\u001b[0;34m\u001b[0m\u001b[0m\n\u001b[0m\u001b[1;32m   1621\u001b[0m \u001b[0;34m\u001b[0m\u001b[0m\n\u001b[1;32m   1622\u001b[0m     \u001b[0;32mdef\u001b[0m \u001b[0mclose\u001b[0m\u001b[0;34m(\u001b[0m\u001b[0mself\u001b[0m\u001b[0;34m)\u001b[0m \u001b[0;34m->\u001b[0m \u001b[0;32mNone\u001b[0m\u001b[0;34m:\u001b[0m\u001b[0;34m\u001b[0m\u001b[0;34m\u001b[0m\u001b[0m\n",
            "\u001b[0;32m/usr/local/lib/python3.12/dist-packages/pandas/io/parsers/readers.py\u001b[0m in \u001b[0;36m_make_engine\u001b[0;34m(self, f, engine)\u001b[0m\n\u001b[1;32m   1878\u001b[0m                 \u001b[0;32mif\u001b[0m \u001b[0;34m\"b\"\u001b[0m \u001b[0;32mnot\u001b[0m \u001b[0;32min\u001b[0m \u001b[0mmode\u001b[0m\u001b[0;34m:\u001b[0m\u001b[0;34m\u001b[0m\u001b[0;34m\u001b[0m\u001b[0m\n\u001b[1;32m   1879\u001b[0m                     \u001b[0mmode\u001b[0m \u001b[0;34m+=\u001b[0m \u001b[0;34m\"b\"\u001b[0m\u001b[0;34m\u001b[0m\u001b[0;34m\u001b[0m\u001b[0m\n\u001b[0;32m-> 1880\u001b[0;31m             self.handles = get_handle(\n\u001b[0m\u001b[1;32m   1881\u001b[0m                 \u001b[0mf\u001b[0m\u001b[0;34m,\u001b[0m\u001b[0;34m\u001b[0m\u001b[0;34m\u001b[0m\u001b[0m\n\u001b[1;32m   1882\u001b[0m                 \u001b[0mmode\u001b[0m\u001b[0;34m,\u001b[0m\u001b[0;34m\u001b[0m\u001b[0;34m\u001b[0m\u001b[0m\n",
            "\u001b[0;32m/usr/local/lib/python3.12/dist-packages/pandas/io/common.py\u001b[0m in \u001b[0;36mget_handle\u001b[0;34m(path_or_buf, mode, encoding, compression, memory_map, is_text, errors, storage_options)\u001b[0m\n\u001b[1;32m    871\u001b[0m         \u001b[0;32mif\u001b[0m \u001b[0mioargs\u001b[0m\u001b[0;34m.\u001b[0m\u001b[0mencoding\u001b[0m \u001b[0;32mand\u001b[0m \u001b[0;34m\"b\"\u001b[0m \u001b[0;32mnot\u001b[0m \u001b[0;32min\u001b[0m \u001b[0mioargs\u001b[0m\u001b[0;34m.\u001b[0m\u001b[0mmode\u001b[0m\u001b[0;34m:\u001b[0m\u001b[0;34m\u001b[0m\u001b[0;34m\u001b[0m\u001b[0m\n\u001b[1;32m    872\u001b[0m             \u001b[0;31m# Encoding\u001b[0m\u001b[0;34m\u001b[0m\u001b[0;34m\u001b[0m\u001b[0m\n\u001b[0;32m--> 873\u001b[0;31m             handle = open(\n\u001b[0m\u001b[1;32m    874\u001b[0m                 \u001b[0mhandle\u001b[0m\u001b[0;34m,\u001b[0m\u001b[0;34m\u001b[0m\u001b[0;34m\u001b[0m\u001b[0m\n\u001b[1;32m    875\u001b[0m                 \u001b[0mioargs\u001b[0m\u001b[0;34m.\u001b[0m\u001b[0mmode\u001b[0m\u001b[0;34m,\u001b[0m\u001b[0;34m\u001b[0m\u001b[0;34m\u001b[0m\u001b[0m\n",
            "\u001b[0;31mFileNotFoundError\u001b[0m: [Errno 2] No such file or directory: '911.csv'"
          ]
        }
      ],
      "source": [
        "df = pd.read_csv('911.csv')"
      ]
    },
    {
      "cell_type": "code",
      "execution_count": null,
      "metadata": {
        "id": "im4w5hj8RfmK"
      },
      "outputs": [],
      "source": [
        "df.info()"
      ]
    },
    {
      "cell_type": "code",
      "execution_count": null,
      "metadata": {
        "id": "ZCK5d6X_RfmL"
      },
      "outputs": [],
      "source": [
        "df.head()"
      ]
    },
    {
      "cell_type": "code",
      "source": [
        "df.isnull().sum()"
      ],
      "metadata": {
        "id": "qKTYlmuHTn_q"
      },
      "execution_count": null,
      "outputs": []
    },
    {
      "cell_type": "code",
      "source": [
        "df['zip'].fillna(df['zip'].mode()[0],inplace=True)\n",
        "df['twp'].fillna(df['twp'].mode()[0],inplace=True)\n",
        "df['addr'].fillna(df['addr'].mode()[0],inplace=True)"
      ],
      "metadata": {
        "id": "vlcFDgfKWWCA"
      },
      "execution_count": null,
      "outputs": []
    },
    {
      "cell_type": "code",
      "execution_count": null,
      "metadata": {
        "id": "s5dGTS0QRfmL"
      },
      "outputs": [],
      "source": [
        "df['zip'].value_counts().head(5)"
      ]
    },
    {
      "cell_type": "code",
      "execution_count": null,
      "metadata": {
        "id": "a6DqAlE2RfmL"
      },
      "outputs": [],
      "source": [
        "df['twp'].value_counts().head(5)"
      ]
    },
    {
      "cell_type": "code",
      "execution_count": null,
      "metadata": {
        "id": "Cvn-pkNCRfmM"
      },
      "outputs": [],
      "source": [
        "df['title'].nunique()"
      ]
    },
    {
      "cell_type": "code",
      "execution_count": null,
      "metadata": {
        "collapsed": true,
        "id": "1EsnAxXlRfmM"
      },
      "outputs": [],
      "source": [
        "df['reason'] = df['title'].apply(lambda x: x.split(':')[0])\n",
        "df['reason']"
      ]
    },
    {
      "cell_type": "markdown",
      "metadata": {
        "id": "b738a6f1"
      },
      "source": [
        "## Data Loading and Preparation"
      ]
    },
    {
      "cell_type": "code",
      "metadata": {
        "id": "0c972d46"
      },
      "source": [
        "import numpy as np\n",
        "import pandas as pd\n",
        "import matplotlib.pyplot as plt\n",
        "import seaborn as sns\n",
        "%matplotlib inline\n",
        "\n",
        "df = pd.read_csv('911.csv')\n",
        "\n",
        "df.info()\n",
        "df.head()\n",
        "df.isnull().sum()\n",
        "\n",
        "df['zip'].fillna(df['zip'].mode()[0],inplace=True)\n",
        "df['twp'].fillna(df['twp'].mode()[0],inplace=True)\n",
        "df['addr'].fillna(df['addr'].mode()[0],inplace=True)"
      ],
      "execution_count": null,
      "outputs": []
    },
    {
      "cell_type": "markdown",
      "metadata": {
        "id": "ef2c57cb"
      },
      "source": [
        "## Analyzing Call Reasons"
      ]
    },
    {
      "cell_type": "code",
      "metadata": {
        "id": "311f34ec"
      },
      "source": [
        "df['zip'].value_counts().head(5)\n",
        "df['twp'].value_counts().head(5)\n",
        "df['title'].nunique()\n",
        "\n",
        "df['reason'] = df['title'].apply(lambda x: x.split(':')[0])\n",
        "df['reason'].value_counts()\n",
        "\n",
        "sns.countplot(x='reason',data=df)"
      ],
      "execution_count": null,
      "outputs": []
    },
    {
      "cell_type": "markdown",
      "metadata": {
        "id": "9a114e8a"
      },
      "source": [
        "## Time-based Analysis"
      ]
    },
    {
      "cell_type": "code",
      "metadata": {
        "id": "7fb540aa"
      },
      "source": [
        "type(df['timeStamp'].iloc[0])\n",
        "df['timeStamp'] = pd.to_datetime(df['timeStamp'])\n",
        "type(df['timeStamp'].iloc[0])\n",
        "\n",
        "time = df['timeStamp'].iloc[0]\n",
        "time.hour\n",
        "\n",
        "df['hour'] = df['timeStamp'].apply(lambda time: time.hour)\n",
        "df['month'] = df['timeStamp'].apply(lambda time: time.month)\n",
        "df['day of week'] = df['timeStamp'].apply(lambda time: time.dayofweek)\n",
        "dmap = ({0:'Mon', 1:'Tue', 2:'Wed', 3:'Thu', 4:'Fri', 5:'Sat', 6:'Sun'})\n",
        "df['day of week'] = df['day of week'].map(dmap)\n",
        "\n",
        "df.head()"
      ],
      "execution_count": null,
      "outputs": []
    },
    {
      "cell_type": "markdown",
      "metadata": {
        "id": "ea5a67ce"
      },
      "source": [
        "## Visualizing Time-based Data"
      ]
    },
    {
      "cell_type": "code",
      "metadata": {
        "id": "ccbc9b88"
      },
      "source": [
        "sns.countplot(x='day of week', data=df, hue='reason')\n",
        "sns.countplot(x='month',data=df,hue='reason',palette='viridis')\n",
        "plt.legend(bbox_to_anchor=(1.05,1),loc=2,borderaxespad=0.)"
      ],
      "execution_count": null,
      "outputs": []
    },
    {
      "cell_type": "markdown",
      "metadata": {
        "id": "8cd55da1"
      },
      "source": [
        "## Analyzing Calls per Month and Date"
      ]
    },
    {
      "cell_type": "code",
      "metadata": {
        "id": "17cd292e"
      },
      "source": [
        "byMonth = df.groupby('month').count()\n",
        "byMonth.head()\n",
        "byMonth['lat'].plot()\n",
        "\n",
        "sns.lmplot(x='month',y='twp',data=byMonth.reset_index())"
      ],
      "execution_count": null,
      "outputs": []
    },
    {
      "cell_type": "code",
      "metadata": {
        "id": "1625de9e"
      },
      "source": [
        "df['Date']=df['timeStamp'].apply(lambda time: time.date())\n",
        "df['Date'].head()\n",
        "\n",
        "byDate = df.groupby('Date').count()\n",
        "byDate['lat'].plot()\n",
        "plt.tight_layout()"
      ],
      "execution_count": null,
      "outputs": []
    },
    {
      "cell_type": "markdown",
      "metadata": {
        "id": "ac429a48"
      },
      "source": [
        "## Analyzing Specific Call Reasons Over Time"
      ]
    },
    {
      "cell_type": "code",
      "metadata": {
        "id": "ed4a7749"
      },
      "source": [
        "df[df['reason'] == 'Traffic'].groupby('Date').count()['lat'].plot()\n",
        "plt.tight_layout()\n",
        "plt.title('Traffic')\n",
        "\n",
        "df[df['reason'] == 'Fire'].groupby('Date').count()['lat'].plot()\n",
        "plt.tight_layout()\n",
        "plt.title('Fire')\n",
        "\n",
        "df[df['reason'] == 'EMS'].groupby('Date').count()['lat'].plot()\n",
        "plt.tight_layout()\n",
        "plt.title('EMS')"
      ],
      "execution_count": null,
      "outputs": []
    },
    {
      "cell_type": "markdown",
      "metadata": {
        "id": "ebecacac"
      },
      "source": [
        "## Heatmaps and Clustermaps"
      ]
    },
    {
      "cell_type": "code",
      "metadata": {
        "id": "87a1758f"
      },
      "source": [
        "dayHour = df.groupby(by=['day of week','hour']).count()['reason'].unstack()\n",
        "dayHour.head()\n",
        "\n",
        "sns.heatmap(dayHour,cmap='viridis')\n",
        "sns.clustermap(dayHour,cmap='viridis')"
      ],
      "execution_count": null,
      "outputs": []
    },
    {
      "cell_type": "code",
      "metadata": {
        "id": "08a7c06e"
      },
      "source": [
        "dayMonth = df.groupby(by=['day of week','month']).count()['reason'].unstack()\n",
        "dayMonth.head()\n",
        "\n",
        "sns.heatmap(dayMonth,cmap='viridis')\n",
        "sns.clustermap(dayMonth,cmap='viridis')"
      ],
      "execution_count": null,
      "outputs": []
    },
    {
      "cell_type": "code",
      "execution_count": null,
      "metadata": {
        "id": "nME-z26DRfmM"
      },
      "outputs": [],
      "source": [
        "df['reason'].value_counts()"
      ]
    },
    {
      "cell_type": "code",
      "execution_count": null,
      "metadata": {
        "id": "SFcqQr-mRfmM"
      },
      "outputs": [],
      "source": [
        "sns.countplot(x='reason',data=df)"
      ]
    },
    {
      "cell_type": "code",
      "execution_count": null,
      "metadata": {
        "id": "MpBUNg60RfmM"
      },
      "outputs": [],
      "source": [
        "type(df['timeStamp'].iloc[0])"
      ]
    },
    {
      "cell_type": "code",
      "execution_count": null,
      "metadata": {
        "collapsed": true,
        "id": "Okip7jcgRfmN"
      },
      "outputs": [],
      "source": [
        "df['timeStamp'] = pd.to_datetime(df['timeStamp'])"
      ]
    },
    {
      "cell_type": "code",
      "source": [
        "type(df['timeStamp'].iloc[0])"
      ],
      "metadata": {
        "id": "1w4bt6x-3tue"
      },
      "execution_count": null,
      "outputs": []
    },
    {
      "cell_type": "code",
      "execution_count": null,
      "metadata": {
        "id": "wFAT4Q5BRfmN"
      },
      "outputs": [],
      "source": [
        "time = df['timeStamp'].iloc[0]\n",
        "time.hour"
      ]
    },
    {
      "cell_type": "code",
      "execution_count": null,
      "metadata": {
        "id": "zeg_TQT0RfmN"
      },
      "outputs": [],
      "source": [
        "df['hour'] = df['timeStamp'].apply(lambda time: time.hour)\n",
        "df['month'] = df['timeStamp'].apply(lambda time: time.month)\n",
        "df['day of week'] = df['timeStamp'].apply(lambda time: time.dayofweek)\n",
        "dmap = ({0:'Mon', 1:'Tue', 2:'Wed', 3:'Thu', 4:'Fri', 5:'Sat', 6:'Sun'})\n",
        "df['day of week'] = df['day of week'].map(dmap)\n"
      ]
    },
    {
      "cell_type": "code",
      "execution_count": null,
      "metadata": {
        "id": "TaHX6zKYRfmN"
      },
      "outputs": [],
      "source": [
        "df.head()"
      ]
    },
    {
      "cell_type": "code",
      "execution_count": null,
      "metadata": {
        "id": "RqBcsSBHRfmN"
      },
      "outputs": [],
      "source": [
        "sns.countplot(x='day of week', data=df, hue='reason')\n"
      ]
    },
    {
      "cell_type": "code",
      "execution_count": null,
      "metadata": {
        "id": "BNgYaKL6RfmO"
      },
      "outputs": [],
      "source": [
        "sns.countplot(x='month',data=df,hue='reason',palette='viridis')\n",
        "plt.legend(bbox_to_anchor=(1.05,1),loc=2,borderaxespad=0.)"
      ]
    },
    {
      "cell_type": "code",
      "execution_count": null,
      "metadata": {
        "id": "pg9E6sGzRfmP"
      },
      "outputs": [],
      "source": [
        "byMonth = df.groupby('month').count()\n",
        "byMonth.head()"
      ]
    },
    {
      "cell_type": "markdown",
      "metadata": {
        "id": "VjZlKuVqRfmP"
      },
      "source": [
        "** Now create a simple plot off of the dataframe indicating the count of calls per month. **"
      ]
    },
    {
      "cell_type": "code",
      "execution_count": null,
      "metadata": {
        "id": "s-JfpN4FRfmP"
      },
      "outputs": [],
      "source": [
        "byMonth['lat'].plot()"
      ]
    },
    {
      "cell_type": "code",
      "execution_count": null,
      "metadata": {
        "id": "AMxrTW-oRfmP"
      },
      "outputs": [],
      "source": [
        "sns.lmplot(x='month',y='twp',data=byMonth.reset_index())"
      ]
    },
    {
      "cell_type": "code",
      "execution_count": null,
      "metadata": {
        "collapsed": true,
        "id": "_9CC-AWkRfmP"
      },
      "outputs": [],
      "source": [
        "df['Date']=df['timeStamp'].apply(lambda time: time.date())\n",
        "df['Date'].head()"
      ]
    },
    {
      "cell_type": "code",
      "execution_count": null,
      "metadata": {
        "id": "gyTMu2KTRfmQ"
      },
      "outputs": [],
      "source": [
        "byDate = df.groupby('Date').count()\n",
        "byDate['lat'].plot()\n",
        "plt.tight_layout()"
      ]
    },
    {
      "cell_type": "code",
      "source": [],
      "metadata": {
        "id": "EX-WZvP3Hur9"
      },
      "execution_count": null,
      "outputs": []
    },
    {
      "cell_type": "code",
      "execution_count": null,
      "metadata": {
        "id": "Rk6mDll_RfmQ"
      },
      "outputs": [],
      "source": [
        "df[df['reason'] == 'Traffic'].groupby('Date').count()['lat'].plot()\n",
        "plt.tight_layout()\n",
        "plt.title('Traffic')"
      ]
    },
    {
      "cell_type": "code",
      "execution_count": null,
      "metadata": {
        "id": "ROw6qJwzRfmQ"
      },
      "outputs": [],
      "source": [
        "df[df['reason'] == 'Fire'].groupby('Date').count()['lat'].plot()\n",
        "plt.tight_layout()\n",
        "plt.title('Fire')"
      ]
    },
    {
      "cell_type": "code",
      "execution_count": null,
      "metadata": {
        "id": "B8lFJ9RHRfmQ"
      },
      "outputs": [],
      "source": [
        "df[df['reason'] == 'EMS'].groupby('Date').count()['lat'].plot()\n",
        "plt.tight_layout()\n",
        "plt.title('EMS')"
      ]
    },
    {
      "cell_type": "code",
      "execution_count": null,
      "metadata": {
        "id": "o1JAenw-RfmQ"
      },
      "outputs": [],
      "source": [
        "dayHour = df.groupby(by=['day of week','hour']).count()['reason'].unstack()\n",
        "dayHour.head()"
      ]
    },
    {
      "cell_type": "code",
      "execution_count": null,
      "metadata": {
        "id": "yL-z0BW6RfmR"
      },
      "outputs": [],
      "source": [
        "sns.heatmap(dayHour,cmap='viridis')"
      ]
    },
    {
      "cell_type": "code",
      "execution_count": null,
      "metadata": {
        "id": "DKjPHlYMRfmR"
      },
      "outputs": [],
      "source": [
        "sns.clustermap(dayHour,cmap='viridis')"
      ]
    },
    {
      "cell_type": "code",
      "execution_count": null,
      "metadata": {
        "id": "eqRtWdZaRfmR"
      },
      "outputs": [],
      "source": [
        "dayMonth = df.groupby(by=['day of week','month']).count()['reason'].unstack()\n",
        "dayMonth.head()"
      ]
    },
    {
      "cell_type": "code",
      "execution_count": null,
      "metadata": {
        "id": "Y_86Zcc1RfmR"
      },
      "outputs": [],
      "source": [
        "sns.heatmap(dayMonth,cmap='viridis')"
      ]
    },
    {
      "cell_type": "code",
      "execution_count": null,
      "metadata": {
        "id": "_D7pt9MPRfmR"
      },
      "outputs": [],
      "source": [
        "sns.clustermap(dayMonth,cmap='viridis')"
      ]
    }
  ],
  "metadata": {
    "kernelspec": {
      "display_name": "Python 3",
      "language": "python",
      "name": "python3"
    },
    "language_info": {
      "codemirror_mode": {
        "name": "ipython",
        "version": 3
      },
      "file_extension": ".py",
      "mimetype": "text/x-python",
      "name": "python",
      "nbconvert_exporter": "python",
      "pygments_lexer": "ipython3",
      "version": "3.5.1"
    },
    "colab": {
      "provenance": []
    }
  },
  "nbformat": 4,
  "nbformat_minor": 0
}